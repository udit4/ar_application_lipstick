{
 "cells": [
  {
   "cell_type": "code",
   "execution_count": 1,
   "metadata": {},
   "outputs": [],
   "source": [
    "from imutils import face_utils\n",
    "import numpy as np\n",
    "import argparse\n",
    "import imutils\n",
    "import dlib\n",
    "import cv2\n",
    "from collections import OrderedDict\n",
    "import urllib"
   ]
  },
  {
   "cell_type": "code",
   "execution_count": 2,
   "metadata": {},
   "outputs": [],
   "source": [
    "# initializing landmark detection and face region detection\n",
    "detector = dlib.get_frontal_face_detector()\n",
    "predictor = dlib.shape_predictor('shape_predictor_68_face_landmarks.dat')"
   ]
  },
  {
   "cell_type": "code",
   "execution_count": 3,
   "metadata": {},
   "outputs": [],
   "source": [
    "image = cv2.imread(r'/Users/uditgera-air/Desktop/harvey.jpg')\n",
    "#image = imutils.resize(image, width=500)\n",
    "gray = cv2.cvtColor(image, cv2.COLOR_BGR2GRAY)"
   ]
  },
  {
   "cell_type": "code",
   "execution_count": 15,
   "metadata": {},
   "outputs": [],
   "source": [
    "def read_image_from_url(url):\n",
    "    resp = urllib.urlopen(url)\n",
    "    image = np.asarray(bytearray(resp.read()), dtype=\"uint8\")\n",
    "    image = cv2.imdecode(image, cv2.IMREAD_COLOR)\n",
    "    return image\n",
    "\n",
    "url = 'https://ecs7.tokopedia.net/img/cache/500-square/product-1/2018/12/7/19831711/19831711_b1f8c30d-dd77-45f7-a78a-adbed5e54062_1080_1080.jpg'\n",
    "url = 'https://ecs7.tokopedia.net/img/cache/500-square/product-1/2019/4/24/3133518/3133518_57b9d992-f888-4901-9192-528cf374468d_1969_1969.jpg'\n",
    "\n",
    "image = read_image_from_url(url)\n",
    "gray = cv2.cvtColor(image, cv2.COLOR_BGR2GRAY)"
   ]
  },
  {
   "cell_type": "code",
   "execution_count": 4,
   "metadata": {},
   "outputs": [
    {
     "name": "stdout",
     "output_type": "stream",
     "text": [
      "rectangles[[(557, 142) (825, 409)]]\n"
     ]
    }
   ],
   "source": [
    "# detect faces in the grayscale image\n",
    "rects = detector(gray, 1)\n",
    "\n",
    "print(rects)"
   ]
  },
  {
   "cell_type": "code",
   "execution_count": 5,
   "metadata": {},
   "outputs": [],
   "source": [
    "\n",
    "FACIAL_LANDMARKS_IDXS = OrderedDict([\n",
    "    (\"mouth\", (48, 68)),\n",
    "    (\"inner_mouth\", (60, 68)),\n",
    "    (\"right_eyebrow\", (17, 22)),\n",
    "    (\"left_eyebrow\", (22, 27)),\n",
    "    (\"right_eye\", (36, 42)),\n",
    "    (\"left_eye\", (42, 48)),\n",
    "    (\"nose\", (27, 36)),\n",
    "    (\"jaw\", (0, 17))\n",
    "])\n",
    "\n",
    "def visualize_facial_landmarks(image, shape, color, alpha):\n",
    "    # two copies of images, one for overlay and one for output\n",
    "    overlay = image.copy()\n",
    "    output = image.copy()\n",
    "\n",
    "    # loop over the facial landmark regions individually\n",
    "    for (i, name) in enumerate(FACIAL_LANDMARKS_IDXS.keys()):\n",
    "    \n",
    "        # check if are supposed to draw the line on lips\n",
    "        if name == \"mouth\":\n",
    "            # grab the coordinates associated with the mask\n",
    "            (j, k) = FACIAL_LANDMARKS_IDXS[name]\n",
    "            pts = shape[j:k]\n",
    "            hull = cv2.convexHull(pts)\n",
    "            cv2.drawContours(overlay, [hull], -1, color, -1)\n",
    "        else:\n",
    "            continue\n",
    "\n",
    "    # apply the transparent overlay\n",
    "    cv2.addWeighted(overlay, alpha, output, 1 - alpha, 0, output)\n",
    "\n",
    "    # return the output image\n",
    "    return output\n",
    "\n",
    "\n",
    "def rgb_to_bgr(color):\n",
    "    color[0], color[2] = color[2], color[0]\n",
    "    return tuple([int(i) for i in color])"
   ]
  },
  {
   "cell_type": "code",
   "execution_count": 14,
   "metadata": {},
   "outputs": [
    {
     "name": "stdout",
     "output_type": "stream",
     "text": [
      "purple4\n",
      "stop\n"
     ]
    }
   ],
   "source": [
    "color_dict = {\n",
    "    'red':[255,0,0],\n",
    "    'blue':[0,0,255],\n",
    "    'aqua':[0,255,255],\n",
    "    'green4':[0,135,0],\n",
    "    'green3':[0,215,0],\n",
    "    'purple4':[95,0,135],\n",
    "    'blue_violet':[95,0,255],\n",
    "    'steel_blue1':[95,215,255],\n",
    "    'yellow_4':[135,175,0],\n",
    "    'dark_slate_gray':[135,255,255],\n",
    "    'gold3':[175,175,0],\n",
    "    'orchid':[215,95,215]\n",
    "}\n",
    "\n",
    "\n",
    "\n",
    "for i, rect in enumerate(rects):\n",
    "    shape = predictor(gray, rect)\n",
    "    shape = face_utils.shape_to_np(shape)\n",
    "    mouth_area = shape[48:68]\n",
    "    for index, value in enumerate(shape):\n",
    "        if index in range(48, 68):\n",
    "            continue\n",
    "        else:\n",
    "            shape[index] = [0, 0]\n",
    "    while(True):\n",
    "        color = raw_input()\n",
    "        if color == 'stop':\n",
    "            break\n",
    "        else:\n",
    "            color_code = (rgb_to_bgr(color_dict[color]))\n",
    "            output = visualize_facial_landmarks(image, shape, color_code, 0.5)\n",
    "            cv2.imshow(\"Image\", output)\n",
    "            cv2.waitKey(0)\n",
    "            cv2.destroyAllWindows()\n",
    "\n",
    "    cv2.destroyAllWindows()\n",
    "    "
   ]
  },
  {
   "cell_type": "code",
   "execution_count": 8,
   "metadata": {},
   "outputs": [],
   "source": [
    "\n",
    "\n",
    "image = "
   ]
  },
  {
   "cell_type": "code",
   "execution_count": 4,
   "metadata": {},
   "outputs": [],
   "source": []
  },
  {
   "cell_type": "code",
   "execution_count": null,
   "metadata": {},
   "outputs": [],
   "source": []
  },
  {
   "cell_type": "code",
   "execution_count": null,
   "metadata": {},
   "outputs": [],
   "source": []
  }
 ],
 "metadata": {
  "kernelspec": {
   "display_name": "Python 2",
   "language": "python",
   "name": "python2"
  },
  "language_info": {
   "codemirror_mode": {
    "name": "ipython",
    "version": 2
   },
   "file_extension": ".py",
   "mimetype": "text/x-python",
   "name": "python",
   "nbconvert_exporter": "python",
   "pygments_lexer": "ipython2",
   "version": "2.7.16"
  }
 },
 "nbformat": 4,
 "nbformat_minor": 2
}
